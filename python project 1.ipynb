{
 "cells": [
  {
   "cell_type": "code",
   "execution_count": 2,
   "id": "db037fa2-2e3c-453c-9776-733ae847282b",
   "metadata": {},
   "outputs": [],
   "source": [
    "import numpy as np\n",
    "import pandas as pd"
   ]
  },
  {
   "cell_type": "code",
   "execution_count": 3,
   "id": "1f828bdb-96b2-48cf-8a2e-1a7ffe33d85f",
   "metadata": {},
   "outputs": [],
   "source": [
    "CONVERSIONS = {\n",
    "    'months': 12,\n",
    "    'm': 12,\n",
    "    'weeks': 52.14,\n",
    "    'w': 52.14,\n",
    "    'days': 365,\n",
    "    'd': 365,\n",
    "    'hours': 8760,\n",
    "    'h': 8760,\n",
    "    'minutes': 525600,\n",
    "    'min': 525600,\n",
    "    'seconds': 31536000,\n",
    "    's': 31536000\n",
    "}"
   ]
  },
  {
   "cell_type": "code",
   "execution_count": 4,
   "id": "e0e7b7bf-edb4-484a-ae26-0e654e22bd16",
   "metadata": {},
   "outputs": [
    {
     "name": "stdin",
     "output_type": "stream",
     "text": [
      "enter your age?  10\n",
      "Please choose a time unit (Months, Weeks, Days, Hours, Minutes, Seconds):  months\n"
     ]
    },
    {
     "name": "stdout",
     "output_type": "stream",
     "text": [
      "You lived for 120.00 Months.\n"
     ]
    }
   ],
   "source": [
    "try:\n",
    "    age = float(input(\"enter your age? \"))\n",
    "    if age < 0:\n",
    "        raise ValueError(\"Age cannot be negative.\")\n",
    "except ValueError as e:\n",
    "    print(\"Invalid age. Please enter a positive number.\")\n",
    "    exit()\n",
    "\n",
    "time_unit = input(\"Please choose a time unit (Months, Weeks, Days, Hours, Minutes, Seconds): \").lower()\n",
    "\n",
    "\n",
    "if time_unit in CONVERSIONS:\n",
    "    duration = age * CONVERSIONS[time_unit]\n",
    "    print(f\"You lived for {duration:.2f} {time_unit.capitalize() if len(time_unit) > 1 else time_unit}.\")\n",
    "else:\n",
    "    print(\"Invalid time unit. Please choose from Months, Weeks, Days, Hours, Minutes, or Seconds.\")"
   ]
  },
  {
   "cell_type": "code",
   "execution_count": null,
   "id": "bc3a3eb2-0bd2-4dd2-92d7-6e3b487c4bac",
   "metadata": {},
   "outputs": [],
   "source": []
  }
 ],
 "metadata": {
  "kernelspec": {
   "display_name": "Python 3 (ipykernel)",
   "language": "python",
   "name": "python3"
  },
  "language_info": {
   "codemirror_mode": {
    "name": "ipython",
    "version": 3
   },
   "file_extension": ".py",
   "mimetype": "text/x-python",
   "name": "python",
   "nbconvert_exporter": "python",
   "pygments_lexer": "ipython3",
   "version": "3.12.4"
  }
 },
 "nbformat": 4,
 "nbformat_minor": 5
}
